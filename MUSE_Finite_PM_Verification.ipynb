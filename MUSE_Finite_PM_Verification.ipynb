{
 "cells": [
  {
   "cell_type": "markdown",
   "id": "93a7c681",
   "metadata": {},
   "source": [
    "Lets first see which files we already have that we can use"
   ]
  },
  {
   "cell_type": "code",
   "execution_count": 3,
   "id": "8f74ac02",
   "metadata": {},
   "outputs": [
    {
     "name": "stdout",
     "output_type": "stream",
     "text": [
      "Hessian_Mutable_MUSE_full.py  focus_output_tf_coils_only.h5\n",
      "Hessian_clean.py              halfper_dipoles.focus\n",
      "famus_output.h5\n"
     ]
    }
   ],
   "source": [
    "!ls ./FICUS/shape-gradient/"
   ]
  },
  {
   "cell_type": "markdown",
   "id": "ef2735ff",
   "metadata": {},
   "source": [
    "We want to use the halfper_dipoles.fcous. Which is...\n",
    "\n",
    "Located at: ./FICUS/shape-gradient/halfper_dipoles.focus"
   ]
  },
  {
   "cell_type": "code",
   "execution_count": null,
   "id": "f738eea1",
   "metadata": {},
   "outputs": [
    {
     "name": "stdout",
     "output_type": "stream",
     "text": [
      "  N_tower - int(N_tower) != 0: check N_layers (default 18)\n",
      "wrote to ./FICUS/shape-gradient/halfper_dipoles_slice_block.csv\n"
     ]
    }
   ],
   "source": [
    "from FICUS.MagnetReader import ReadFAMUS\n",
    "\n",
    "#Reading the FAMUS‐generated point‐dipole file here\n",
    "focus_file = \"./FICUS/shape-gradient/halfper_dipoles.focus\"\n",
    "reader = ReadFAMUS(focus_file, N_layers=18)\n",
    "\n",
    "# We could remove zero‐moment slices here by using\n",
    "#    reader.skim(write=False) \n",
    "# BUt... I'll leave as is for now\n",
    "\n",
    "# Write out the “eight‐corner” CSV that Magnet_3D expects:\n",
    "# This creates a file “halfper_dipoles_slice_block.csv” in the same folder:\n",
    "reader.write_ficus_block()\n",
    "# Should save .csv in:  MUSE/FICUS/shape-gradient/halfper_dipoles_slice_block.csv\n",
    "# which has 24 columns: n1x,n1y,n1z, n2x,n2y,n2z, …, s4x,s4y,s4z\n"
   ]
  },
  {
   "cell_type": "code",
   "execution_count": null,
   "id": "05c6d1b5",
   "metadata": {},
   "outputs": [
    {
     "name": "stdout",
     "output_type": "stream",
     "text": [
      "Data size: (46888, 24)\n"
     ]
    },
    {
     "data": {
      "text/plain": [
       "array([[ 9.24840000e-02,  3.89711000e-01,  3.38100000e-03, ...,\n",
       "         1.58777454e-03,  6.34975527e-03,  1.16580000e+06],\n",
       "       [ 9.97310000e-02,  3.87919000e-01,  3.38100000e-03, ...,\n",
       "         1.58696471e-03,  6.34995634e-03,  1.16580000e+06],\n",
       "       [ 1.06945000e-01,  3.85993000e-01,  3.38100000e-03, ...,\n",
       "         1.58755449e-03,  6.34992983e-03,  1.16580000e+06],\n",
       "       ...,\n",
       "       [ 1.34861000e-01, -1.62752000e-01,  7.96580000e-02, ...,\n",
       "         1.58728392e-03,  6.34998955e-03,  1.16580000e+06],\n",
       "       [ 1.40550000e-01, -1.57865000e-01,  7.96580000e-02, ...,\n",
       "         1.58748740e-03,  6.35004129e-03,  1.16580000e+06],\n",
       "       [ 1.46062000e-01, -1.52779000e-01,  7.96580000e-02, ...,\n",
       "         1.58780580e-03,  6.35004613e-03,  1.16580000e+06]],\n",
       "      shape=(46888, 12))"
      ]
     },
     "execution_count": 9,
     "metadata": {},
     "output_type": "execute_result"
    }
   ],
   "source": [
    "from FICUS.MagnetReader import Magnet_3D\n",
    "\n",
    "# Loadiing the blockCSV into Magnet_3D heere\n",
    "block_csv = \"./FICUS/shape-gradient/halfper_dipoles_slice_block.csv\"\n",
    "m3 = Magnet_3D(block_csv, R=0.3048)\n",
    "\n",
    "# Here At this point m3.com, m3.H, m3.L, etc. are all populated.\n",
    "# Now trying to make this magtense passible \n",
    "source_array = m3.export_source()    # shape (N_blocks, 12) = [x,y,z,nx,ny,nz, ux,uy,uz, H, L, M]\n",
    "source_array"
   ]
  },
  {
   "cell_type": "code",
   "execution_count": null,
   "id": "092f3429",
   "metadata": {},
   "outputs": [],
   "source": []
  }
 ],
 "metadata": {
  "kernelspec": {
   "display_name": "venv (3.11.12)",
   "language": "python",
   "name": "python3"
  },
  "language_info": {
   "codemirror_mode": {
    "name": "ipython",
    "version": 3
   },
   "file_extension": ".py",
   "mimetype": "text/x-python",
   "name": "python",
   "nbconvert_exporter": "python",
   "pygments_lexer": "ipython3",
   "version": "3.11.12"
  }
 },
 "nbformat": 4,
 "nbformat_minor": 5
}
