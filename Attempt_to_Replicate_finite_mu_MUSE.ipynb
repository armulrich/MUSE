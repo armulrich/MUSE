{
 "cells": [
  {
   "cell_type": "markdown",
   "id": "1e088ef7-5656-45f5-9ce5-76c659ba1b49",
   "metadata": {},
   "source": [
    "#### Generating Baseline Files"
   ]
  },
  {
   "cell_type": "markdown",
   "id": "fb0d7762-4f21-41e7-bbef-274ae3c26f55",
   "metadata": {},
   "source": [
    "Running the mgrid_301.py file with different mu combinations first one is baseline ($\\mu=1.0$ ; no coupling)"
   ]
  },
  {
   "cell_type": "code",
   "execution_count": 8,
   "id": "bb342061-2981-4350-a5e3-31ad3ce13751",
   "metadata": {},
   "outputs": [
    {
     "name": "stdout",
     "output_type": "stream",
     "text": [
      "9736 magnets are identfied in ./Input/magtense_zot80_3d.csv.\n",
      "Built a Tiles object with 9736 prisms...\n",
      "Running run_simulation on 9736 prisms + 4800 points....\n",
      " Doing iteration\n",
      " Error:       0.0000000 Max. Error:       0.0000100\n",
      " Error:       0.0000000 Max. Error:       0.0000100\n",
      " Error:       0.0000000 Max. Error:       0.0000100\n",
      " Finding solution at requested points\n",
      " Elapsed time   164.068129000000     \n",
      "Saved B-field grid to ./Intermediate/bfield_grid_301_1.00_1.00.npy\n",
      "Saved updated Tiles to ./Intermediate/Tiles_1.00_1.00.npy\n",
      "Wrote FICUS PM input CSV → ./PM_FICUS/FICUS_zot80_3d_1.00_1.00.csv\n"
     ]
    }
   ],
   "source": [
    "!python mgrid_301.py --muea 1.00 --muoa 1.00"
   ]
  },
  {
   "cell_type": "code",
   "execution_count": 18,
   "id": "cc43488e-d29f-42ed-8e20-a69dd0a8cb3d",
   "metadata": {},
   "outputs": [
    {
     "name": "stdout",
     "output_type": "stream",
     "text": [
      "9736 magnets are identfied in ./Input/magtense_zot80_3d.csv.\n",
      "Built a Tiles object with 9736 prisms...\n",
      "Running run_simulation on 9736 prisms + 4800 points....\n",
      " Doing iteration\n",
      " Error: *************** Max. Error:       0.0000100\n",
      " Error: *************** Max. Error:       0.0000100\n",
      " Error:       0.0505558 Max. Error:       0.0000100\n",
      " Error:       0.0086754 Max. Error:       0.0000100\n",
      " Error:       0.0015264 Max. Error:       0.0000100\n",
      " Error:       0.0002602 Max. Error:       0.0000100\n",
      " Error:       0.0000438 Max. Error:       0.0000100\n",
      " Error:       0.0000074 Max. Error:       0.0000100\n",
      " Finding solution at requested points\n",
      " Elapsed time   271.380206000000     \n",
      "Saved B-field grid to ./Intermediate/bfield_grid_301_1.20_1.20.npy\n",
      "Saved updated Tiles to ./Intermediate/Tiles_1.20_1.20.npy\n",
      "Wrote FICUS PM input CSV → ./PM_FICUS/FICUS_zot80_3d_1.20_1.20.csv\n"
     ]
    }
   ],
   "source": [
    "!python mgrid_301.py --muea 1.20 --muoa 1.20"
   ]
  },
  {
   "cell_type": "code",
   "execution_count": 19,
   "id": "e304cd44-674c-45cd-a889-35043762c332",
   "metadata": {},
   "outputs": [
    {
     "name": "stdout",
     "output_type": "stream",
     "text": [
      "9736 magnets are identfied in ./Input/magtense_zot80_3d.csv.\n",
      "Built a Tiles object with 9736 prisms...\n",
      "Running run_simulation on 9736 prisms + 4800 points....\n",
      " Doing iteration\n",
      " Error: *************** Max. Error:       0.0000100\n",
      " Error: *************** Max. Error:       0.0000100\n",
      " Error:       0.5235307 Max. Error:       0.0000100\n",
      " Error:       0.1550389 Max. Error:       0.0000100\n",
      " Error:       0.0800093 Max. Error:       0.0000100\n",
      " Error:       0.0316199 Max. Error:       0.0000100\n",
      " Error:       0.0137290 Max. Error:       0.0000100\n",
      " Error:       0.0056520 Max. Error:       0.0000100\n",
      " Error:       0.0024324 Max. Error:       0.0000100\n",
      " Error:       0.0010330 Max. Error:       0.0000100\n",
      " Error:       0.0004384 Max. Error:       0.0000100\n",
      " Error:       0.0001851 Max. Error:       0.0000100\n",
      " Error:       0.0000780 Max. Error:       0.0000100\n",
      " Error:       0.0000328 Max. Error:       0.0000100\n",
      " Error:       0.0000138 Max. Error:       0.0000100\n",
      " Error:       0.0000058 Max. Error:       0.0000100\n",
      " Finding solution at requested points\n",
      " Elapsed time   443.229815000000     \n",
      "Saved B-field grid to ./Intermediate/bfield_grid_301_1.50_1.50.npy\n",
      "Saved updated Tiles to ./Intermediate/Tiles_1.50_1.50.npy\n",
      "Wrote FICUS PM input CSV → ./PM_FICUS/FICUS_zot80_3d_1.50_1.50.csv\n"
     ]
    }
   ],
   "source": [
    "!python mgrid_301.py --muea 1.50 --muoa 1.50"
   ]
  },
  {
   "cell_type": "code",
   "execution_count": 1,
   "id": "456062e3-69c2-4f7e-a8b3-ab618900a9bd",
   "metadata": {},
   "outputs": [
    {
     "name": "stdout",
     "output_type": "stream",
     "text": [
      "9736 magnets are identfied in ./Input/magtense_zot80_3d.csv.\n",
      "Built a Tiles object with 9736 prisms...\n",
      "Running run_simulation on 9736 prisms + 4800 points....\n",
      " Doing iteration\n",
      " Error: *************** Max. Error:       0.0000100\n",
      " Error: *************** Max. Error:       0.0000100\n",
      " Error:      34.8885379 Max. Error:       0.0000100\n",
      " Error:      14.3537473 Max. Error:       0.0000100\n",
      " Error:       5.1044879 Max. Error:       0.0000100\n",
      " Error:      28.5295916 Max. Error:       0.0000100\n",
      " Error:      11.8754009 Max. Error:       0.0000100\n",
      " Error:      43.2940064 Max. Error:       0.0000050\n",
      " Error:       8.8757975 Max. Error:       0.0000050\n",
      " Error:       2.7050349 Max. Error:       0.0000050\n",
      " Error:      11.1007399 Max. Error:       0.0000050\n",
      " Error:       2.9753936 Max. Error:       0.0000050\n",
      " Error:       2.4778488 Max. Error:       0.0000050\n",
      " Error:      15.8307260 Max. Error:       0.0000050\n",
      " Error:      10.3388764 Max. Error:       0.0000050\n",
      " Error:       3.2635209 Max. Error:       0.0000025\n",
      " Error:       9.0165266 Max. Error:       0.0000025\n",
      " Error:       4.6740164 Max. Error:       0.0000025\n",
      " Error:     102.7024697 Max. Error:       0.0000025\n",
      " Error:       5.2870366 Max. Error:       0.0000025\n",
      " Error:     604.4013035 Max. Error:       0.0000013\n",
      " Error:       0.9985752 Max. Error:       0.0000013\n",
      " Error:      28.5465259 Max. Error:       0.0000013\n",
      " Error:       1.4134503 Max. Error:       0.0000013\n",
      " Error:       0.2688200 Max. Error:       0.0000013\n",
      " Error:       0.0972561 Max. Error:       0.0000013\n",
      " Error:       0.0406935 Max. Error:       0.0000013\n",
      " Error:       0.0179554 Max. Error:       0.0000013\n",
      " Error:       0.0081012 Max. Error:       0.0000013\n",
      " Error:       0.0036919 Max. Error:       0.0000013\n",
      " Error:       0.0016904 Max. Error:       0.0000013\n",
      " Error:       0.0007758 Max. Error:       0.0000013\n",
      " Error:       0.0003566 Max. Error:       0.0000013\n",
      " Error:       0.0001641 Max. Error:       0.0000013\n",
      " Error:       0.0000756 Max. Error:       0.0000013\n",
      " Error:       0.0000348 Max. Error:       0.0000013\n",
      " Error:       0.0000161 Max. Error:       0.0000013\n",
      " Error:       0.0000074 Max. Error:       0.0000013\n",
      " Error:       0.0000034 Max. Error:       0.0000013\n",
      " Error:       0.0000016 Max. Error:       0.0000013\n",
      " Error:       0.0000009 Max. Error:       0.0000013\n",
      " Finding solution at requested points\n",
      " Elapsed time   1010.95282800000     \n",
      "Saved B-field grid to ./Intermediate/bfield_grid_301_5.00_5.00.npy\n",
      "Saved updated Tiles to ./Intermediate/Tiles_5.00_5.00.npy\n",
      "Wrote FICUS PM input CSV → ./PM_FICUS/FICUS_zot80_3d_5.00_5.00.csv\n"
     ]
    }
   ],
   "source": [
    "!python mgrid_301.py --muea 5.00 --muoa 5.00"
   ]
  },
  {
   "cell_type": "code",
   "execution_count": 13,
   "id": "8e30c5a0-43a6-479e-a434-24b3d159f0b3",
   "metadata": {},
   "outputs": [
    {
     "name": "stdout",
     "output_type": "stream",
     "text": [
      "bfield_grid_301_1.00_1.00.npy  Tiles_1.00_1.00.npy\n",
      "bfield_grid_301_1.05_1.05.npy  Tiles_1.05_1.05.npy\n",
      "bfield_grid_301_1.20_1.20.npy  Tiles_1.20_1.20.npy\n",
      "bfield_grid_301_1.50_1.50.npy  Tiles_1.50_1.50.npy\n",
      "bfield_grid_301_5.00_5.00.npy  Tiles_5.00_5.00.npy\n",
      "evaluation_points_301.npy\n"
     ]
    }
   ],
   "source": [
    "!ls ./Intermediate"
   ]
  },
  {
   "cell_type": "markdown",
   "id": "fb0a15b1-5502-4617-bffe-d42e370cfdcd",
   "metadata": {},
   "source": [
    "#### Visualization"
   ]
  },
  {
   "cell_type": "markdown",
   "id": "eb27050a-4fb2-4fad-83a6-fadaee35f473",
   "metadata": {},
   "source": [
    "Trying to visualize the $\\Delta m$ differences (in $\\theta)$ between different pairs of mu. "
   ]
  },
  {
   "cell_type": "markdown",
   "id": "2f2c2514-7cbf-45e8-9223-68032c25742b",
   "metadata": {},
   "source": [
    "Note: This is only a basic visualization will move onto vtk visualization next."
   ]
  },
  {
   "cell_type": "code",
   "execution_count": 16,
   "id": "10fd5af5-aa46-46ac-9483-6b5c1456d949",
   "metadata": {},
   "outputs": [
    {
     "name": "stdout",
     "output_type": "stream",
     "text": [
      "Max tilt = 3.013e+01°, 95% = 7.575e+00°, Mean = 2.204e+00°\n"
     ]
    },
    {
     "data": {
      "image/png": "[encoded data removed]",
      "text/plain": [
       "<Figure size 600x400 with 1 Axes>"
      ]
     },
     "metadata": {},
     "output_type": "display_data"
    }
   ],
   "source": [
    "from pathlib import Path\n",
    "import numpy as np\n",
    "import matplotlib.pyplot as plt\n",
    "\n",
    "REF_TAG = \"mu1.00_1.00\" # -> Baseline\n",
    "CMP_TAG = \"mu5.00_5.00\"  # Change this if you want a different mu comparison\n",
    "INT = Path(\"./Intermediate\") # BAse path\n",
    "def tiles_file(tag: str) -> Path | None:\n",
    "    path = INT / f\"Tiles_{tag[2:]}.npy\"\n",
    "    return path if path.exists() else None\n",
    "\n",
    "# Loading tiles...\n",
    "def load_tiles(path: Path):\n",
    "    obj = np.load(path, allow_pickle=True)\n",
    "    if hasattr(obj, \"M\"):\n",
    "        return obj\n",
    "    if isinstance(obj, np.ndarray) and obj.ndim == 0 and hasattr(obj.item(), \"M\"):\n",
    "        return obj.item()\n",
    "    raise TypeError(f\"Somethign went wrong with the given path\")\n",
    "    \n",
    "def compare_m_vectors(ref: str, other: str, bins: int = 80):\n",
    "    p0 = tiles_file(ref)\n",
    "    p1 = tiles_file(other)\n",
    "    if p0 is None or p1 is None:\n",
    "        print(\"Something went wrong!: Tiles_*.npy missing—skipping m-vector comparison.\")\n",
    "        return\n",
    "\n",
    "    t0 = load_tiles(p0)\n",
    "    t1 = load_tiles(p1)\n",
    "\n",
    "    # Normalize each M‐vector to unit \n",
    "    m0 = t0.M/np.linalg.norm(t0.M,axis=1)[:,None]\n",
    "    m1 = t1.M/np.linalg.norm(t1.M,axis=1)[:,None]\n",
    "\n",
    "    # Compute tilt angle (in degrees) between each pair\n",
    "    dot = np.sum(m0 * m1, axis=1)\n",
    "    dot = np.clip(dot, -1.0, 1.0)\n",
    "    ang = np.degrees(np.arccos(dot))\n",
    "\n",
    "    plt.figure(figsize=(6, 4))\n",
    "    plt.hist(ang, bins=bins)\n",
    "    plt.xlabel(\"Tilt angle in [deg]\")\n",
    "    plt.ylabel(\"# of magnets\")\n",
    "    plt.grid(alpha=0.3)\n",
    "    plt.title(f\"Δm between {ref} and {other}\")\n",
    "    txt = (\n",
    "        f\"max   : {ang.max():.3e}°\\n\" # Most important for bound\n",
    "        f\"95%   : {np.percentile(ang, 95):.3e}°\\n\"\n",
    "        f\"mean  : {ang.mean():.3e}°\") \n",
    "    plt.text(0.63, 0.78, txt,transform=plt.gca().transAxes,bbox=dict(facecolor=\"white\", alpha=0.8),fontsize=9) # Text formatting stuff\n",
    "    print(\n",
    "        f\"Max tilt = {ang.max():.3e}°, \"f\"95% = {np.percentile(ang, 95):.3e}°, \" f\"Mean = {ang.mean():.3e}°\"\n",
    "    )\n",
    "\n",
    "if CMP_TAG:\n",
    "    compare_m_vectors(REF_TAG, CMP_TAG)\n",
    "    plt.show()"
   ]
  }
 ],
 "metadata": {
  "kernelspec": {
   "display_name": "Python 3 (ipykernel)",
   "language": "python",
   "name": "python3"
  },
  "language_info": {
   "codemirror_mode": {
    "name": "ipython",
    "version": 3
   },
   "file_extension": ".py",
   "mimetype": "text/x-python",
   "name": "python",
   "nbconvert_exporter": "python",
   "pygments_lexer": "ipython3",
   "version": "3.12.9"
  }
 },
 "nbformat": 4,
 "nbformat_minor": 5
}
