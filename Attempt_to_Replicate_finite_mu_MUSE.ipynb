{
 "cells": [
  {
   "cell_type": "code",
   "execution_count": null,
   "id": "bb342061-2981-4350-a5e3-31ad3ce13751",
   "metadata": {},
   "outputs": [
    {
     "name": "stdout",
     "output_type": "stream",
     "text": [
      "9736 magnets are identfied in ./Input/magtense_zot80_3d.csv.\n",
      "Built a Tiles object with 9736 prisms...\n",
      "Running run_simulation on 9736 prisms + 6523272 points....\n",
      " Doing iteration\n",
      " Error: *************** Max. Error:       0.0000100\n",
      " Error: *************** Max. Error:       0.0000100\n",
      " Error:       0.0026360 Max. Error:       0.0000100\n",
      " Error:       0.0001185 Max. Error:       0.0000100\n",
      " Error:       0.0000052 Max. Error:       0.0000100\n",
      " Finding solution at requested points\n"
     ]
    }
   ],
   "source": [
    "!python mgrid_301.py --muea 1.05 --muoa 1.05"
   ]
  }
 ],
 "metadata": {
  "kernelspec": {
   "display_name": "Python 3 (ipykernel)",
   "language": "python",
   "name": "python3"
  },
  "language_info": {
   "codemirror_mode": {
    "name": "ipython",
    "version": 3
   },
   "file_extension": ".py",
   "mimetype": "text/x-python",
   "name": "python",
   "nbconvert_exporter": "python",
   "pygments_lexer": "ipython3",
   "version": "3.12.9"
  }
 },
 "nbformat": 4,
 "nbformat_minor": 5
}
